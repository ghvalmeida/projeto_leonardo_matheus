{
 "cells": [
  {
   "cell_type": "code",
   "execution_count": 1,
   "metadata": {
    "collapsed": false
   },
   "outputs": [
    {
     "name": "stdout",
     "output_type": "stream",
     "text": [
      "<!doctype html>\n",
      "<!--[if lt IE 7]>   <html class=\"no-js ie6 lt-ie7 lt-ie8 lt-ie9\">   <![endif]-->\n",
      "<!-\n"
     ]
    }
   ],
   "source": [
    "import urllib.request\n",
    "f = urllib.request.urlopen('http://www.python.org/')\n",
    "print(f.read(100).decode('utf-8'))"
   ]
  },
  {
   "cell_type": "code",
   "execution_count": 20,
   "metadata": {
    "collapsed": false,
    "scrolled": true
   },
   "outputs": [
    {
     "name": "stdout",
     "output_type": "stream",
     "text": [
      "b'\\r\\n<!DOCTYPE HTML>\\r\\n<html lang=\"pt-BR\">\\r\\n<head>\\r\\n  <title>\\r\\n    Portal da Transpar\\xeancia - Transfer\\xeanc'\n"
     ]
    }
   ],
   "source": [
    "f = urllib.request.urlopen('http://www.portaldatransparencia.gov.br/PortalTransparenciaPesquisaAcaoUF.asp?codigoAcao=8442&codigoFuncao=08&NomeAcao=Transfer%EAncia+de+Renda+Diretamente+%E0s+Fam%EDlias+em+Condi%E7%E3o+de+Pobreza+e+Extrema+Pobreza+%28Lei+n%BA+10%2E836%2C+de+2004%29&Exercicio=2016')\n",
    "print(f.read(100))\n"
   ]
  },
  {
   "cell_type": "code",
   "execution_count": 19,
   "metadata": {
    "collapsed": false
   },
   "outputs": [
    {
     "name": "stdout",
     "output_type": "stream",
     "text": [
      "<html><body><p>br\" style=\"background:black; height: 20px; padding:4px 0 4px 10px; display: block; font-family:sans,sans-serif; text-decoration:none; color:white; \"&gt;Portal do Governo Brasileiro\r\n",
      "\r\n",
      "<!-- <![endif]-->\n",
      "</p><div class=\"stickyFooterWrapper\">\n",
      "<div class=\"portalheader\">\n",
      "<div class=\"header_content\">\n",
      "<div class=\"barra-acessivel\">\n",
      "<!--<nav class=\"grid_16 acessTeclado\">\r\n",
      "        <ul>\r\n",
      "          <li>\r\n",
      "            <div class=\"acessTexto\">Ir para o conteúdo</div>\r\n",
      "            <div class=\"numeroAtalho\">1 </div>\r\n",
      "          </li>\r\n",
      "          <li>\r\n",
      "            <div class=\"acessTexto\">Ir para o menu </div>\r\n",
      "            <div class=\"numeroAtalho\">2</div>\r\n",
      "          </li>\r\n",
      "          <li>\r\n",
      "            <div class=\"acessTexto\">Ir para a busca </div>\r\n",
      "            <div class=\"numeroAtalho\">3</div>\r\n",
      "          </li>\r\n",
      "          <li>\r\n",
      "            <div class=\"acessTexto\">Ir para o rodapé</div>\r\n",
      "            <div class=\"numeroAtalho\">4</div>\r\n",
      "          </li>\r\n",
      "        </ul>\r\n",
      "      </nav>\r\n",
      "\r\n",
      "      <nav class=\"acessibilidade\">\r\n",
      "        <ul class=\"omega\">\r\n",
      "          <li class=\"alpha\"><a href=\"#\">Acessibilidade</a></li>\r\n",
      "          <li><a href=\"#\">Alto Contraste</a></li>\r\n",
      "          <li class=\"omega last\"><a href=\"#\">Mapa do Site</a></li>\r\n",
      "\r\n",
      "        </ul>\r\n",
      "      </nav>-->\n",
      "</div>\n",
      "<a href=\"/\">\n",
      "<h1 class=\"marca\">Portal da Transparência do Governo Federal</h1>\n",
      "</a>\n",
      "<div class=\"menuApoio\">\n",
      "<div class=\"nav_portal\">\n",
      "<ul>\n",
      "<li class=\"last\"><a href=\"/manual/\">Manual de navegação</a></li>\n",
      "<li><a href=\"/links/\">Links</a></li>\n",
      "<li><a href=\"/glossario/\">Glossário</a></li>\n",
      "<li><a href=\"/faleConosco/\">Contato</a></li>\n",
      "<li class=\"first\"><a href=\"/faleConosco/Perguntas.asp\">Perguntas frequentes</a></li>\n",
      "</ul>\n",
      "</div>\n",
      "</div>\n",
      "</div>\n",
      "</div>\n",
      "<div class=\"site_content\">\n",
      "<script type=\"text/javascript\">\r\n",
      "\r\n",
      "        function redirAcessoRapido() {\r\n",
      "\r\n",
      "          var sel = document.getElementById('linksAcessoRapido');\r\n",
      "          var opt = sel.options[sel.selectedIndex];\r\n",
      "\r\n",
      "          // Apenas redireciona se não for um link \"fake\" (#)\r\n",
      "          if (opt.value != \"#\") {\r\n",
      "            // Se possui um \"+\" indicando para abrir em nova janela...\r\n",
      "            if (opt.value.indexOf(\"+\") == 0) {\r\n",
      "              window.open(opt.value.substring(1)); // ... abre em nova janela (desconsiderando o \"+\")\r\n",
      "            }\r\n",
      "            else // Se não possui...\r\n",
      "            {\r\n",
      "              window.location = opt.value; // ... abre na mesma janela\r\n",
      "            }\r\n",
      "          }\r\n",
      "\r\n",
      "        }\r\n",
      "\r\n",
      "      </script>\n",
      "<!-- Combo de acesso rápido -->\n",
      "<div id=\"acesso-rapido\">\n",
      "<div class=\"conteudo\">\n",
      "<h2>\n",
      "<label for=\"linksAcessoRapido\">Acesso rápido</label>\n",
      "</h2>\n",
      "<select id=\"linksAcessoRapido\">\n",
      "<option value=\"#\">Selecione...</option>\n",
      "<optgroup label=\"CONSULTAS\">\n",
      "<option value=\"http://www.portaldatransparencia.gov.br/Despesas.asp\">Despesas</option>\n",
      "<option value=\"http://www.portaldatransparencia.gov.br/receitas\">Receitas</option>\n",
      "<option value=\"http://www.portaldatransparencia.gov.br/convenios\">Convênios</option>\n",
      "<option value=\"http://www.portaldatransparencia.gov.br/ceis\">Empresas Sancionadas</option>\n",
      "<option value=\"http://www.portaldatransparencia.gov.br/servidores\">Servidores</option>\n",
      "</optgroup>\n",
      "<optgroup label=\"GRÁFICOS E DOWNLOADS\">\n",
      "<option value=\"http://www.portaldatransparencia.gov.br/downloads/\">Download de Consultas</option>\n",
      "<option value=\"http://www.portaldatransparencia.gov.br/graficos/\">Portal em Gráficos</option>\n",
      "</optgroup>\n",
      "<optgroup label=\"INFORMAÇÕES\">\n",
      "<option value=\"http://www.portaldatransparencia.gov.br/sobre\">Sobre o Portal</option>\n",
      "<option value=\"http://www.portaldatransparencia.gov.br/sobre/Origem.asp\">Dados do Portal</option>\n",
      "<option value=\"http://www.portaldatransparencia.gov.br/aprendaMais\">Aprenda Mais</option>\n",
      "<option value=\"http://www.portaldatransparencia.gov.br/noticias\">Notícias</option>\n",
      "<option value=\"http://www.portaldatransparencia.gov.br/controleSocial\">Controle Social</option>\n",
      "<option value=\"http://www.portaldatransparencia.gov.br/licitacoesecontratos/\">Licitações e Contratos</option>\n",
      "</optgroup>\n",
      "<optgroup label=\"SERVIÇOS\">\n",
      "<option value=\"http://www.portaldatransparencia.gov.br/convenios/ConveniosFormulario.asp\">Informações sobre convênios</option>\n",
      "<option value=\"http://www.portaldatransparencia.gov.br/rede/\">Rede de Transparência</option>\n",
      "<option value=\"http://www1.transparencia.gov.br/\">Páginas de Transparência</option>\n",
      "<option value=\"http://br.transparencia.gov.br/tem\">Estados e Municípios</option>\n",
      "<option value=\"+http://www.cgu.gov.br/assuntos/controle-social/olho-vivo/\">Programa Olho Vivo</option>\n",
      "<option value=\"+http://www.portalzinho.cgu.gov.br/\">Portal Criança Cidadã</option>\n",
      "</optgroup>\n",
      "</select>\n",
      "<a href=\"javascript: redirAcessoRapido();\">OK</a>\n",
      "</div>\n",
      "<div class=\"borda\"></div>\n",
      "</div>\n",
      "<script language=\"JavaScript\">\r\n",
      "    function navega(pagina)\r\n",
      "    {\r\n",
      "        var paginaInicial = 1;\r\n",
      "        var paginaFinal = 2;\r\n",
      "        var paginaAtual = 1;\r\n",
      "        var strUrl = \"/PortalTransparenciaPesquisaAcaoUF.asp?codigoAcao=8442&codigoFuncao=08&NomeAcao=Transfer%EAncia+de+Renda+Diretamente+%E0s+Fam%EDlias+em+Condi%E7%E3o+de+Pobreza+e+Extrema+Pobreza+%28Lei+n%BA+10%2E836%2C+de+2004%29&Exercicio=2016\";\r\n",
      "\t\t\r\n",
      "\t\tif (strUrl.indexOf('?')+1 == strUrl.length) \r\n",
      "\t\t{\r\n",
      "\t\t\tstrUrl = strUrl;\r\n",
      "\t\t}\r\n",
      "\t\telse\r\n",
      "\t\t{\r\n",
      "\t\t\tstrUrl = strUrl + '&';\r\n",
      "\t\t}\r\n",
      "\t\t\r\n",
      "\r\n",
      "        if (pagina == paginaAtual || pagina =='')\r\n",
      "        {\r\n",
      "            document.frmMunicipios.numeroPagina.value = '';\r\n",
      "        }\r\n",
      "        else\r\n",
      "        {\r\n",
      "            if (isNaN(pagina) || (pagina < paginaInicial) || (pagina > paginaFinal))\r\n",
      "            {\r\n",
      "                alert('Pagina inválida');\r\n",
      "                document.frmMunicipios.numeroPagina.value = '';\r\n",
      "            }\r\n",
      "            else\r\n",
      "            {\r\n",
      "                strUrl += 'Pagina=' + pagina;\r\n",
      "                window.location = strUrl;\r\n",
      "            }\r\n",
      "        }\r\n",
      "    }\r\n",
      "\t\r\n",
      "\tfunction navegaEnter(e,pagina)\r\n",
      "\t{\r\n",
      "\t\r\n",
      "\t\tvar keycode;\r\n",
      "\t\t\r\n",
      "\t\tif (window.event) keycode = window.event.keyCode;\r\n",
      "\t\telse if (e) keycode = e.which;\r\n",
      "\t\telse return true;\r\n",
      "\r\n",
      "\t\tif (keycode == 13)\r\n",
      "\t\t{\r\n",
      "\t\t\tnavega(pagina);\r\n",
      "\t\t\treturn false;\r\n",
      "\t\t}\r\n",
      "\t\telse {\r\n",
      "\t\t\treturn true;\r\n",
      "\t\t}\r\n",
      "\t\t\r\n",
      "\t}\r\n",
      "\t\r\n",
      "\t\r\n",
      "    function pesquisa(texto)\r\n",
      "    {\r\n",
      "    \r\n",
      "\t\t\r\n",
      "\t\t\t\t\t\t\r\n",
      "\t\tvar strUrl = \"/PortalTransparenciaPesquisaAcaoUF.asp?codigoAcao=8442&codigoFuncao=08&NomeAcao=Transfer%EAncia+de+Renda+Diretamente+%E0s+Fam%EDlias+em+Condi%E7%E3o+de+Pobreza+e+Extrema+Pobreza+%28Lei+n%BA+10%2E836%2C+de+2004%29&Exercicio=2016\";\r\n",
      "\r\n",
      "\t\tif (strUrl.indexOf('?')+1 == strUrl.length) \r\n",
      "\t\t{\r\n",
      "\t\t\tstrUrl = strUrl + 'textoPesquisa=' + escape(texto);\r\n",
      "\t\t}\r\n",
      "\t\telse\r\n",
      "\t\t{\r\n",
      "\t\t\tstrUrl = strUrl + '&textoPesquisa=' + escape(texto);\r\n",
      "\t\t}\r\n",
      "\t\t\r\n",
      "\t\twindow.location = strUrl;\r\n",
      "    }\r\n",
      "\t\r\n",
      "\tfunction pesquisaEnter(e,texto)\r\n",
      "\t{\r\n",
      "\t\r\n",
      "\t\tvar keycode;\r\n",
      "\t\t\r\n",
      "\t\tif (window.event) keycode = window.event.keyCode;\r\n",
      "\t\telse if (e) keycode = e.which;\r\n",
      "\t\telse return true;\r\n",
      "\r\n",
      "\t\tif (keycode == 13)\r\n",
      "\t\t{\r\n",
      "\t\t\tpesquisa(texto);\r\n",
      "\t\t\treturn false;\r\n",
      "\t\t}\r\n",
      "\t\telse {\r\n",
      "\t\t\treturn true;\r\n",
      "\t\t}\r\n",
      "\t\t\r\n",
      "\t}\r\n",
      "\t\r\n",
      "\t\r\n",
      "</script>\n",
      "<p class=\"caminho\">\n",
      "<span class=\"rotulo\">Você está em:</span>\n",
      "<br/>\n",
      "<span class=\"passos\">\n",
      "<span class=\"anterior\"><a href=\"/\">Início</a></span>»\r\n",
      "\r\n",
      "\r\n",
      "                <span class=\"anterior\"><a href=\"Despesas.asp\">Despesas</a></span>»\r\n",
      "\r\n",
      "                <span class=\"anterior\"><a href=\"PortalTransparenciaPesquisaAcao.asp?Exercicio=2016&amp;textoPesquisa=\">Ações</a></span>»\r\n",
      "\r\n",
      "                <span class=\"anterior\"><a href=\"\"></a></span>»\r\n",
      "\r\n",
      "            <span class=\"atual\"><a href=\"/PortalTransparenciaPesquisaAcaoUF.asp?codigoAcao=8442&amp;codigoFuncao=08&amp;NomeAcao=Transfer%EAncia+de+Renda+Diretamente+%E0s+Fam%EDlias+em+Condi%E7%E3o+de+Pobreza+e+Extrema+Pobreza+%28Lei+n%BA+10%2E836%2C+de+2004%29&amp;Exercicio=2016\">Estado</a></span>\n",
      "</span>\n",
      "</p>\n",
      "<!--Conteúdo geral -->\n",
      "<div id=\"pagina\">\n",
      "<div id=\"conteudo\">\n",
      "<form name=\"frmMunicipios\">\n",
      "<div id=\"titulo\">\n",
      "<h1>Transferência de Recursos por Ação de Governo</h1>\n",
      "</div>\n",
      "<div id=\"acoes\">\n",
      "<!-- Sublinhado simulado via javascript para IE6; para outros navegadores, o css resolve isso. -->\n",
      "<span onblur=\"javascript: this.style.textDecoration='none';\" onclick=\"javascript: print();\" onfocus=\"javascript: this.style.textDecoration='underline';\" onkeypress=\"javascript: if (checkKey(event,13)) print ();\" onmouseout=\"javascript: this.style.textDecoration='none';\" onmouseover=\"javascript: this.style.textDecoration='underline'; this.style.cursor='pointer';\" tabindex=\"0\">\r\n",
      "\t\t\timprimir <img alt=\"imprimir\" src=\"/images/icone-imprimir.png\"/>\n",
      "</span>\n",
      "</div>\n",
      "<div id=\"totais\">\n",
      "<table>\n",
      "<caption style=\"display:none;\">Totais da Consulta</caption>\n",
      "<tr class=\"firstChild\">\n",
      "<th>Descrição do total</th>\n",
      "<th colspan=\"2\">Valor</th>\n",
      "</tr>\n",
      "<tr>\n",
      "<td class=\"firstChild\"> Total destinado pelo Governo Federal em âmbito nacional em <b>2016</b> - Transferência de Recursos: </td>\n",
      "<td style=\"\">R$</td>\n",
      "<td class=\"colunaValor\">\r\n",
      "                223.881.139.665,99\r\n",
      "            </td>\n",
      "</tr>\n",
      "<tr>\n",
      "<td class=\"firstChild\"> Total destinado à ação <b>Transferência de Renda Diretamente às Famílias em Condição de Pobreza e Extrema Pobreza (Lei nº 10.836, de 2004)</b>: </td>\n",
      "<td style=\"\">R$</td>\n",
      "<td class=\"colunaValor\">\r\n",
      "                21.019.394.939,00\r\n",
      "            </td>\n",
      "</tr>\n",
      "</table>\n",
      "</div>\n",
      "<div id=\"listagem\">\n",
      "<div id=\"ajudaListagem\">\n",
      "<p class=\"firstChild\">Selecione o(a) \"Estado\" para obter o detalhamento do valor</p>\n",
      "<p>\r\n",
      "            Caso queira outra classificação, clique no título da coluna correspondente\r\n",
      "          </p>\n",
      "</div>\n",
      "<table>\n",
      "<tr class=\"firstChild\">\n",
      "<th class=\"firstChild\"><a href=\"PortalTransparenciaPesquisaAcaoUF.asp?Exercicio=2016&amp;textoPesquisa=&amp;codigoAcao=8442&amp;codigoFuncao=08&amp;Ordem=0\" title='Ordena por \"Estado\"'>Estado</a></th>\n",
      "<th class=\"colunaValor\"><a href=\"PortalTransparenciaPesquisaAcaoUF.asp?Exercicio=2016&amp;textoPesquisa=&amp;codigoAcao=8442&amp;codigoFuncao=08&amp;Ordem=1\" title='Ordena por \"Total no Ano\"'>Total no Ano (R$)</a></th>\n",
      "</tr>\n",
      "<tr>\n",
      "<td class=\"firstChild\"><a href=\"PortalTransparenciaPesquisaAcaoMunicipio.asp?Exercicio=2016&amp;textoPesquisaAcao=&amp;codigoAcao=8442&amp;codigoFuncao=08&amp;siglaEstado=AC\">ACRE</a></td>\n",
      "<td class=\"colunaValor\">\r\n",
      "              182.088.936,00\r\n",
      "            </td>\n",
      "</tr>\n",
      "<tr class=\"linhaPar\">\n",
      "<td class=\"firstChild\"><a href=\"PortalTransparenciaPesquisaAcaoMunicipio.asp?Exercicio=2016&amp;textoPesquisaAcao=&amp;codigoAcao=8442&amp;codigoFuncao=08&amp;siglaEstado=AL\">ALAGOAS</a></td>\n",
      "<td class=\"colunaValor\">\r\n",
      "              629.250.885,00\r\n",
      "            </td>\n",
      "</tr>\n",
      "<tr>\n",
      "<td class=\"firstChild\"><a href=\"PortalTransparenciaPesquisaAcaoMunicipio.asp?Exercicio=2016&amp;textoPesquisaAcao=&amp;codigoAcao=8442&amp;codigoFuncao=08&amp;siglaEstado=AP\">AMAPÁ</a></td>\n",
      "<td class=\"colunaValor\">\r\n",
      "              110.756.530,00\r\n",
      "            </td>\n",
      "</tr>\n",
      "<tr class=\"linhaPar\">\n",
      "<td class=\"firstChild\"><a href=\"PortalTransparenciaPesquisaAcaoMunicipio.asp?Exercicio=2016&amp;textoPesquisaAcao=&amp;codigoAcao=8442&amp;codigoFuncao=08&amp;siglaEstado=AM\">AMAZONAS</a></td>\n",
      "<td class=\"colunaValor\">\r\n",
      "              694.489.346,00\r\n",
      "            </td>\n",
      "</tr>\n",
      "<tr>\n",
      "<td class=\"firstChild\"><a href=\"PortalTransparenciaPesquisaAcaoMunicipio.asp?Exercicio=2016&amp;textoPesquisaAcao=&amp;codigoAcao=8442&amp;codigoFuncao=08&amp;siglaEstado=BA\">BAHIA</a></td>\n",
      "<td class=\"colunaValor\">\r\n",
      "              2.789.650.063,00\r\n",
      "            </td>\n",
      "</tr>\n",
      "<tr class=\"linhaPar\">\n",
      "<td class=\"firstChild\"><a href=\"PortalTransparenciaPesquisaAcaoMunicipio.asp?Exercicio=2016&amp;textoPesquisaAcao=&amp;codigoAcao=8442&amp;codigoFuncao=08&amp;siglaEstado=CE\">CEARÁ</a></td>\n",
      "<td class=\"colunaValor\">\r\n",
      "              1.582.858.524,00\r\n",
      "            </td>\n",
      "</tr>\n",
      "<tr>\n",
      "<td class=\"firstChild\"><a href=\"PortalTransparenciaPesquisaAcaoMunicipio.asp?Exercicio=2016&amp;textoPesquisaAcao=&amp;codigoAcao=8442&amp;codigoFuncao=08&amp;siglaEstado=DF\">DISTRITO FEDERAL</a></td>\n",
      "<td class=\"colunaValor\">\r\n",
      "              109.007.340,00\r\n",
      "            </td>\n",
      "</tr>\n",
      "<tr class=\"linhaPar\">\n",
      "<td class=\"firstChild\"><a href=\"PortalTransparenciaPesquisaAcaoMunicipio.asp?Exercicio=2016&amp;textoPesquisaAcao=&amp;codigoAcao=8442&amp;codigoFuncao=08&amp;siglaEstado=ES\">ESPÍRITO SANTO</a></td>\n",
      "<td class=\"colunaValor\">\r\n",
      "              248.346.980,00\r\n",
      "            </td>\n",
      "</tr>\n",
      "<tr>\n",
      "<td class=\"firstChild\"><a href=\"PortalTransparenciaPesquisaAcaoMunicipio.asp?Exercicio=2016&amp;textoPesquisaAcao=&amp;codigoAcao=8442&amp;codigoFuncao=08&amp;siglaEstado=GO\">GOIÁS</a></td>\n",
      "<td class=\"colunaValor\">\r\n",
      "              425.842.298,00\r\n",
      "            </td>\n",
      "</tr>\n",
      "<tr class=\"linhaPar\">\n",
      "<td class=\"firstChild\"><a href=\"PortalTransparenciaPesquisaAcaoMunicipio.asp?Exercicio=2016&amp;textoPesquisaAcao=&amp;codigoAcao=8442&amp;codigoFuncao=08&amp;siglaEstado=MA\">MARANHÃO</a></td>\n",
      "<td class=\"colunaValor\">\r\n",
      "              1.703.447.019,00\r\n",
      "            </td>\n",
      "</tr>\n",
      "<tr>\n",
      "<td class=\"firstChild\"><a href=\"PortalTransparenciaPesquisaAcaoMunicipio.asp?Exercicio=2016&amp;textoPesquisaAcao=&amp;codigoAcao=8442&amp;codigoFuncao=08&amp;siglaEstado=MT\">MATO GROSSO</a></td>\n",
      "<td class=\"colunaValor\">\r\n",
      "              241.158.280,00\r\n",
      "            </td>\n",
      "</tr>\n",
      "<tr class=\"linhaPar\">\n",
      "<td class=\"firstChild\"><a href=\"PortalTransparenciaPesquisaAcaoMunicipio.asp?Exercicio=2016&amp;textoPesquisaAcao=&amp;codigoAcao=8442&amp;codigoFuncao=08&amp;siglaEstado=MS\">MATO GROSSO DO SUL</a></td>\n",
      "<td class=\"colunaValor\">\r\n",
      "              200.958.361,00\r\n",
      "            </td>\n",
      "</tr>\n",
      "<tr>\n",
      "<td class=\"firstChild\"><a href=\"PortalTransparenciaPesquisaAcaoMunicipio.asp?Exercicio=2016&amp;textoPesquisaAcao=&amp;codigoAcao=8442&amp;codigoFuncao=08&amp;siglaEstado=MG\">MINAS GERAIS</a></td>\n",
      "<td class=\"colunaValor\">\r\n",
      "              1.538.212.420,00\r\n",
      "            </td>\n",
      "</tr>\n",
      "<tr class=\"linhaPar\">\n",
      "<td class=\"firstChild\"><a href=\"PortalTransparenciaPesquisaAcaoMunicipio.asp?Exercicio=2016&amp;textoPesquisaAcao=&amp;codigoAcao=8442&amp;codigoFuncao=08&amp;siglaEstado=PA\">PARÁ</a></td>\n",
      "<td class=\"colunaValor\">\r\n",
      "              1.535.473.984,00\r\n",
      "            </td>\n",
      "</tr>\n",
      "<tr>\n",
      "<td class=\"firstChild\"><a href=\"PortalTransparenciaPesquisaAcaoMunicipio.asp?Exercicio=2016&amp;textoPesquisaAcao=&amp;codigoAcao=8442&amp;codigoFuncao=08&amp;siglaEstado=PB\">PARAÍBA</a></td>\n",
      "<td class=\"colunaValor\">\r\n",
      "              855.336.176,00\r\n",
      "            </td>\n",
      "</tr>\n",
      "</table>\n",
      "</div>\n",
      "<script src=\"/recursos/helper.js\" type=\"text/javascript\"></script>\n",
      "<div id=\"paginacao\">\n",
      "<p class=\"paginaAtual\">Página 1/2</p>\n",
      "<p>\r\n",
      "\t\r\n",
      "\t\t\r\n",
      "\t\t\t« Primeira |\r\n",
      "\t\t\t‹ Anterior |\r\n",
      "\t\t\r\n",
      "\t\t\t<a href=\"#\" onclick=\"navega(2);\">Próxima ›</a> |\r\n",
      "\t\t\t<a href=\"#\" onclick=\"navega(2);\">Última »</a> |\r\n",
      "\t\t\r\n",
      "\r\n",
      "\t\t<label for=\"numeroPagina\">Página:</label>\n",
      "<input class=\"numeroPagina\" id=\"numeroPagina\" onkeypress=\"if (checkKey(event,13)) {navega(document.frmMunicipios.numeroPagina.value); return false;}\" placeholder=\"nº página\" style=\"width: 7em;\" type=\"text\"/>\n",
      "<input class=\"botaoIr\" onclick=\"navega(document.frmMunicipios.numeroPagina.value);\" onkeypress=\"if (checkKey(event,13)) navega(document.frmMunicipios.numeroPagina.value);\" type=\"button\" value=\"Ir\"/>\n",
      "</p>\n",
      "</div>\n",
      "</form>\n",
      "<div style=\"text-align:center;margin-top:20px;\">\n",
      "<a href=\"/downloads/\">\n",
      "<img alt=\"Download de dados\" src=\"/images/icone-salvar.png\"/>\r\n",
      "    Clique aqui para baixar dados do portal\r\n",
      "    </a>\n",
      "</div>\n",
      "<div id=\"avisos\">\n",
      "<p>\r\n",
      "\t\tRecomenda-se visualizar em resolução 1024x768\r\n",
      "\t</p>\n",
      "</div>\n",
      "</div>\n",
      "<!-- /conteudo -->\n",
      "</div>\n",
      "</div>\n",
      "</div>\n",
      "<div class=\"rodape\">\n",
      "<div class=\"header_content\">\n",
      "<div id=\"footer-brasil\"></div>\n",
      "</div>\n",
      "</div>\n",
      "<!--[if gt IE 8]>\r\n",
      "<script src=\"/RecursosJS/barra.js?cor=preta\" type=\"text/javascript\"></script>\r\n",
      "<![endif]-->\n",
      "<!--[if !IE]> -->\n",
      "<script src=\"/RecursosJS/barra.js?cor=preta\" type=\"text/javascript\"></script>\n",
      "<!-- <![endif]-->\n",
      "<script type=\"text/javascript\">\r\n",
      "  jQuery(window).load(function () {jQuery.ajax({type: 'GET', dataType: 'script', cache: true,url:(document.location.protocol==\"https:\"?\"https://ssl\":\"http://www\")+'.google-analytics.com/analytics.js',success: function () { ga('create', 'UA-1665737-12'); ga('send', 'pageview'); }});});\r\n",
      "</script>\n",
      "<noscript> <img src=\"//nojsstats.appspot.com/UA-1665737-12/www.portaldatransparencia.gov.br?r= \"/> </noscript>\n",
      "<noscript> <img src=\"//nojsstats.appspot.com/UA-1665737-23/www.portaldatransparencia.gov.br?r= \"/> </noscript>\n",
      "<!--[if lt IE 9]>\r\n",
      "  <script src=\"/RecursosJS/css3-mediaqueries.js\" type=\"text/javascript\"></script>\t\r\n",
      "<![endif]-->\n",
      "</body>\n",
      "</html>\n",
      "\n"
     ]
    }
   ],
   "source": [
    "from bs4 import BeautifulSoup\n",
    "soup = BeautifulSoup(f, \"lxml\")\n",
    "print (soup)"
   ]
  },
  {
   "cell_type": "code",
   "execution_count": 31,
   "metadata": {
    "collapsed": false
   },
   "outputs": [
    {
     "name": "stdout",
     "output_type": "stream",
     "text": [
      "Página 1/2\n"
     ]
    }
   ],
   "source": [
    "paginacao = soup.find(id='paginacao').p.getText()\n",
    "print(paginacao)"
   ]
  },
  {
   "cell_type": "code",
   "execution_count": 34,
   "metadata": {
    "collapsed": false
   },
   "outputs": [
    {
     "name": "stdout",
     "output_type": "stream",
     "text": [
      "2\n"
     ]
    }
   ],
   "source": [
    "paginas = str.split(paginacao, '/')[1]\n",
    "print (paginas)"
   ]
  },
  {
   "cell_type": "code",
   "execution_count": 35,
   "metadata": {
    "collapsed": false
   },
   "outputs": [
    {
     "data": {
      "text/plain": [
       "[<td class=\"firstChild\"> Total destinado pelo Governo Federal em âmbito nacional em <b>2016</b> - Transferência de Recursos: </td>,\n",
       " <td class=\"firstChild\"> Total destinado à ação <b>Transferência de Renda Diretamente às Famílias em Condição de Pobreza e Extrema Pobreza (Lei nº 10.836, de 2004)</b>: </td>,\n",
       " <td class=\"firstChild\"><a href=\"PortalTransparenciaPesquisaAcaoMunicipio.asp?Exercicio=2016&amp;textoPesquisaAcao=&amp;codigoAcao=8442&amp;codigoFuncao=08&amp;siglaEstado=AC\">ACRE</a></td>,\n",
       " <td class=\"firstChild\"><a href=\"PortalTransparenciaPesquisaAcaoMunicipio.asp?Exercicio=2016&amp;textoPesquisaAcao=&amp;codigoAcao=8442&amp;codigoFuncao=08&amp;siglaEstado=AL\">ALAGOAS</a></td>,\n",
       " <td class=\"firstChild\"><a href=\"PortalTransparenciaPesquisaAcaoMunicipio.asp?Exercicio=2016&amp;textoPesquisaAcao=&amp;codigoAcao=8442&amp;codigoFuncao=08&amp;siglaEstado=AP\">AMAPÁ</a></td>,\n",
       " <td class=\"firstChild\"><a href=\"PortalTransparenciaPesquisaAcaoMunicipio.asp?Exercicio=2016&amp;textoPesquisaAcao=&amp;codigoAcao=8442&amp;codigoFuncao=08&amp;siglaEstado=AM\">AMAZONAS</a></td>,\n",
       " <td class=\"firstChild\"><a href=\"PortalTransparenciaPesquisaAcaoMunicipio.asp?Exercicio=2016&amp;textoPesquisaAcao=&amp;codigoAcao=8442&amp;codigoFuncao=08&amp;siglaEstado=BA\">BAHIA</a></td>,\n",
       " <td class=\"firstChild\"><a href=\"PortalTransparenciaPesquisaAcaoMunicipio.asp?Exercicio=2016&amp;textoPesquisaAcao=&amp;codigoAcao=8442&amp;codigoFuncao=08&amp;siglaEstado=CE\">CEARÁ</a></td>,\n",
       " <td class=\"firstChild\"><a href=\"PortalTransparenciaPesquisaAcaoMunicipio.asp?Exercicio=2016&amp;textoPesquisaAcao=&amp;codigoAcao=8442&amp;codigoFuncao=08&amp;siglaEstado=DF\">DISTRITO FEDERAL</a></td>,\n",
       " <td class=\"firstChild\"><a href=\"PortalTransparenciaPesquisaAcaoMunicipio.asp?Exercicio=2016&amp;textoPesquisaAcao=&amp;codigoAcao=8442&amp;codigoFuncao=08&amp;siglaEstado=ES\">ESPÍRITO SANTO</a></td>,\n",
       " <td class=\"firstChild\"><a href=\"PortalTransparenciaPesquisaAcaoMunicipio.asp?Exercicio=2016&amp;textoPesquisaAcao=&amp;codigoAcao=8442&amp;codigoFuncao=08&amp;siglaEstado=GO\">GOIÁS</a></td>,\n",
       " <td class=\"firstChild\"><a href=\"PortalTransparenciaPesquisaAcaoMunicipio.asp?Exercicio=2016&amp;textoPesquisaAcao=&amp;codigoAcao=8442&amp;codigoFuncao=08&amp;siglaEstado=MA\">MARANHÃO</a></td>,\n",
       " <td class=\"firstChild\"><a href=\"PortalTransparenciaPesquisaAcaoMunicipio.asp?Exercicio=2016&amp;textoPesquisaAcao=&amp;codigoAcao=8442&amp;codigoFuncao=08&amp;siglaEstado=MT\">MATO GROSSO</a></td>,\n",
       " <td class=\"firstChild\"><a href=\"PortalTransparenciaPesquisaAcaoMunicipio.asp?Exercicio=2016&amp;textoPesquisaAcao=&amp;codigoAcao=8442&amp;codigoFuncao=08&amp;siglaEstado=MS\">MATO GROSSO DO SUL</a></td>,\n",
       " <td class=\"firstChild\"><a href=\"PortalTransparenciaPesquisaAcaoMunicipio.asp?Exercicio=2016&amp;textoPesquisaAcao=&amp;codigoAcao=8442&amp;codigoFuncao=08&amp;siglaEstado=MG\">MINAS GERAIS</a></td>,\n",
       " <td class=\"firstChild\"><a href=\"PortalTransparenciaPesquisaAcaoMunicipio.asp?Exercicio=2016&amp;textoPesquisaAcao=&amp;codigoAcao=8442&amp;codigoFuncao=08&amp;siglaEstado=PA\">PARÁ</a></td>,\n",
       " <td class=\"firstChild\"><a href=\"PortalTransparenciaPesquisaAcaoMunicipio.asp?Exercicio=2016&amp;textoPesquisaAcao=&amp;codigoAcao=8442&amp;codigoFuncao=08&amp;siglaEstado=PB\">PARAÍBA</a></td>]"
      ]
     },
     "execution_count": 35,
     "metadata": {},
     "output_type": "execute_result"
    }
   ],
   "source": [
    "soup.findAll(\"td\", {\"class\":\"firstChild\"})"
   ]
  },
  {
   "cell_type": "code",
   "execution_count": null,
   "metadata": {
    "collapsed": true
   },
   "outputs": [],
   "source": []
  },
  {
   "cell_type": "code",
   "execution_count": null,
   "metadata": {
    "collapsed": true
   },
   "outputs": [],
   "source": []
  },
  {
   "cell_type": "code",
   "execution_count": null,
   "metadata": {
    "collapsed": true
   },
   "outputs": [],
   "source": []
  },
  {
   "cell_type": "code",
   "execution_count": null,
   "metadata": {
    "collapsed": true
   },
   "outputs": [],
   "source": []
  },
  {
   "cell_type": "code",
   "execution_count": null,
   "metadata": {
    "collapsed": false
   },
   "outputs": [],
   "source": []
  },
  {
   "cell_type": "code",
   "execution_count": null,
   "metadata": {
    "collapsed": true
   },
   "outputs": [],
   "source": []
  },
  {
   "cell_type": "code",
   "execution_count": null,
   "metadata": {
    "collapsed": false
   },
   "outputs": [],
   "source": []
  },
  {
   "cell_type": "code",
   "execution_count": null,
   "metadata": {
    "collapsed": true
   },
   "outputs": [],
   "source": []
  },
  {
   "cell_type": "code",
   "execution_count": null,
   "metadata": {
    "collapsed": true
   },
   "outputs": [],
   "source": []
  },
  {
   "cell_type": "code",
   "execution_count": null,
   "metadata": {
    "collapsed": true
   },
   "outputs": [],
   "source": []
  },
  {
   "cell_type": "code",
   "execution_count": null,
   "metadata": {
    "collapsed": true
   },
   "outputs": [],
   "source": []
  },
  {
   "cell_type": "code",
   "execution_count": null,
   "metadata": {
    "collapsed": true
   },
   "outputs": [],
   "source": []
  },
  {
   "cell_type": "code",
   "execution_count": null,
   "metadata": {
    "collapsed": true
   },
   "outputs": [],
   "source": []
  },
  {
   "cell_type": "code",
   "execution_count": null,
   "metadata": {
    "collapsed": true
   },
   "outputs": [],
   "source": []
  },
  {
   "cell_type": "code",
   "execution_count": null,
   "metadata": {
    "collapsed": true
   },
   "outputs": [],
   "source": []
  },
  {
   "cell_type": "code",
   "execution_count": null,
   "metadata": {
    "collapsed": true
   },
   "outputs": [],
   "source": []
  },
  {
   "cell_type": "code",
   "execution_count": null,
   "metadata": {
    "collapsed": true
   },
   "outputs": [],
   "source": []
  }
 ],
 "metadata": {
  "kernelspec": {
   "display_name": "Python 3",
   "language": "python",
   "name": "python3"
  },
  "language_info": {
   "codemirror_mode": {
    "name": "ipython",
    "version": 3
   },
   "file_extension": ".py",
   "mimetype": "text/x-python",
   "name": "python",
   "nbconvert_exporter": "python",
   "pygments_lexer": "ipython3",
   "version": "3.5.1"
  }
 },
 "nbformat": 4,
 "nbformat_minor": 0
}
